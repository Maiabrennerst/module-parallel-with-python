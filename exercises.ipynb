{
 "cells": [
  {
   "cell_type": "markdown",
   "metadata": {
    "ein.tags": "worksheet-0",
    "slideshow": {
     "slide_type": "-"
    }
   },
   "source": [
    "# CPU-Bound Work\n",
    "\n",
    "To explore cpu-bound work, we will practise bitcoin mining! \n",
    "\n",
    "Hashing is a great example of cpu-bound work, and searching for a \"nonce\" in order to get a hash that looks a certain way is naturally cpu intensive!\n",
    "\n",
    "The function get_target gets passed a string, and then proceeds to do some slow work: hashing the string over and over, with a new \"none\" concatenated to the front, until it gets a hash that starts with the correct number of zeros."
   ]
  },
  {
   "cell_type": "code",
   "execution_count": 33,
   "metadata": {
    "autoscroll": false,
    "collapsed": false,
    "ein.hycell": false,
    "ein.tags": "worksheet-0",
    "slideshow": {
     "slide_type": "-"
    }
   },
   "outputs": [],
   "source": [
    "from hashlib import sha256\n",
    "\n",
    "def hash(s, nonce):\n",
    "    data = (str(nonce) + s).encode()\n",
    "    m = sha256()\n",
    "    m.update(data)\n",
    "    return m.hexdigest()\n",
    "\n",
    "def get_target(s, target = '00000'):\n",
    "    first = None\n",
    "    i = 0\n",
    "    while first != target:\n",
    "        h = hash(s, i)\n",
    "        first = h[:len(target)]\n",
    "        i += 1\n",
    "    return h, i"
   ]
  },
  {
   "cell_type": "markdown",
   "metadata": {
    "ein.tags": "worksheet-0",
    "slideshow": {
     "slide_type": "-"
    }
   },
   "source": [
    "The Zen of Python\n",
    "\n",
    "We won't parallelize the actual mining, instead we will pretend that we need to hash multiple strings in this way, making the problem trivially parallelizable. The strings we will hash are the lines from the poem: The Zen of Python.\n",
    "\n",
    "The Zen of Python has been an easter egg in python for a very long time. When you \"import this\", the module prints out the poem. We will need to do a little trickery to get the poem in string form. You can see the module here: https://github.com/python/cpython/blob/3.7/Lib/this.py"
   ]
  },
  {
   "cell_type": "code",
   "execution_count": 34,
   "metadata": {
    "autoscroll": false,
    "collapsed": false,
    "ein.hycell": false,
    "ein.tags": "worksheet-0",
    "slideshow": {
     "slide_type": "-"
    }
   },
   "outputs": [],
   "source": [
    "from this import s, d\n",
    "\n",
    "zen = \"\".join([d.get(c, c) for c in s])\n",
    "zens = [i for i in zen.split('\\n') if i]"
   ]
  },
  {
   "cell_type": "code",
   "execution_count": null,
   "metadata": {
    "autoscroll": false,
    "collapsed": false,
    "ein.hycell": false,
    "ein.tags": "worksheet-0",
    "scrolled": true,
    "slideshow": {
     "slide_type": "-"
    }
   },
   "outputs": [],
   "source": [
    "# This cell does everything we want. \n",
    "# But it's slow! Because it has not been parallelized.\n",
    "\n",
    "[get_target(z) for z in zens]"
   ]
  },
  {
   "cell_type": "code",
   "execution_count": 30,
   "metadata": {
    "autoscroll": false,
    "collapsed": false,
    "ein.hycell": false,
    "ein.tags": "worksheet-0",
    "slideshow": {
     "slide_type": "-"
    }
   },
   "outputs": [],
   "source": [
    "from time import perf_counter\n",
    "\n",
    "# Let's parallelize the process from the previous cell!\n",
    "# Use an ExecutorPool from the concurrent.futures module\n",
    "# Look up the documentation!\n",
    "# There are two types of pools: ProcessPoolExecutor \n",
    "# and ThreadPoolExecutor. Try both and time the execution!\n",
    "# Which is faster? Why? "
   ]
  },
  {
   "cell_type": "markdown",
   "metadata": {
    "ein.tags": "worksheet-0",
    "slideshow": {
     "slide_type": "-"
    }
   },
   "source": [
    "# I/O-Bound Work\n",
    "\n",
    "Let's move on to I/O work, like in scraping! \n",
    "\n",
    "We know we should use a Thread Pool."
   ]
  },
  {
   "cell_type": "code",
   "execution_count": 35,
   "metadata": {
    "autoscroll": false,
    "collapsed": false,
    "ein.hycell": false,
    "ein.tags": "worksheet-0",
    "slideshow": {
     "slide_type": "-"
    }
   },
   "outputs": [],
   "source": [
    "# Copy your previous code from the \"scraping\" module\n",
    "# Modify it such that, rather than returning the \"title\" of\n",
    "# each lego set, you return the URL (href attribute) to the\n",
    "# \"product page\" of the lego (the page you get to when you click\n",
    "# on the title)."
   ]
  },
  {
   "cell_type": "code",
   "execution_count": null,
   "metadata": {
    "autoscroll": false,
    "collapsed": false,
    "ein.hycell": false,
    "ein.tags": "worksheet-0",
    "slideshow": {
     "slide_type": "-"
    }
   },
   "outputs": [],
   "source": [
    "# You should now have a list with several hundred different links, \n",
    "# each leading to the pages of different lego sets. \n",
    "\n",
    "# Here's a new function that scrapes the product page: \n",
    "def product_page(soup):\n",
    "    pass\n",
    "\n",
    "# Call this function in parallel, such that you retrieve \n",
    "# all the _______ from each product page.\n",
    "# Should this be with a ThreadPoolExecutor or a ProcessPoolExecutor?"
   ]
  },
  {
   "cell_type": "markdown",
   "metadata": {
    "ein.tags": "worksheet-0",
    "slideshow": {
     "slide_type": "-"
    }
   },
   "source": [
    "# Queues\n",
    "\n",
    "Unfortunately, scraping is not so simple. We rarely have a list of pages ahead-of-time, and it is rarely very efficient to collect the pages first, then scrape them. \n",
    "\n",
    "What we want is some way in which the list (of urls that we map over) can continually grow.\n",
    "\n",
    "That's what queues are for!\n",
    "\n",
    "Now implement your scraper with queues. Take a look at the following example: \n",
    "\n",
    "https://docs.python.org/3/library/queue.html "
   ]
  },
  {
   "cell_type": "code",
   "execution_count": 2,
   "metadata": {
    "autoscroll": false,
    "collapsed": false,
    "ein.hycell": false,
    "ein.tags": "worksheet-0",
    "slideshow": {
     "slide_type": "-"
    }
   },
   "outputs": [
    {
     "ename": "NameError",
     "evalue": "name 'queue' is not defined",
     "output_type": "error",
     "traceback": [
      "\u001b[0;31m---------------------------------------------------------------------------\u001b[0m",
      "\u001b[0;31mNameError\u001b[0m                                 Traceback (most recent call last)",
      "\u001b[0;32m<ipython-input-2-72c30594ac4e>\u001b[0m in \u001b[0;36m<module>\u001b[0;34m()\u001b[0m\n\u001b[1;32m     41\u001b[0m                     \u001b[0mq\u001b[0m\u001b[0;34m.\u001b[0m\u001b[0mtask_done\u001b[0m\u001b[0;34m(\u001b[0m\u001b[0;34m)\u001b[0m\u001b[0;34m\u001b[0m\u001b[0m\n\u001b[1;32m     42\u001b[0m \u001b[0;34m\u001b[0m\u001b[0m\n\u001b[0;32m---> 43\u001b[0;31m \u001b[0mq\u001b[0m \u001b[0;34m=\u001b[0m \u001b[0mqueue\u001b[0m\u001b[0;34m.\u001b[0m\u001b[0mQueue\u001b[0m\u001b[0;34m(\u001b[0m\u001b[0;34m)\u001b[0m\u001b[0;34m\u001b[0m\u001b[0m\n\u001b[0m\u001b[1;32m     44\u001b[0m \u001b[0mq\u001b[0m\u001b[0;34m.\u001b[0m\u001b[0mput\u001b[0m\u001b[0;34m(\u001b[0m\u001b[0mstarting_thing\u001b[0m\u001b[0;34m)\u001b[0m\u001b[0;34m\u001b[0m\u001b[0m\n\u001b[1;32m     45\u001b[0m \u001b[0;34m\u001b[0m\u001b[0m\n",
      "\u001b[0;31mNameError\u001b[0m: name 'queue' is not defined"
     ]
    }
   ],
   "source": [
    "# This is a modified version of the example from the above Python docs page\n",
    "# Follow this strategy, and write your scraper in concurrent form!\n",
    "def worker(i):\n",
    "    while True:\n",
    "        item = q.get()\n",
    "        if item == 'break':\n",
    "            break\n",
    "        results = do_work(item)\n",
    "        if results:\n",
    "            q.put(r) for r in results\n",
    "        q.task_done()\n",
    "\n",
    "q = queue.Queue()\n",
    "\n",
    "q.put(starting_thing)\n",
    "\n",
    "\n",
    "# stop workers\n",
    "with ThreadPoolExecutor(50) as pool:\n",
    "    futures = pool.map(worker, range(50))\n",
    "\n",
    "    # block until all tasks are done\n",
    "    q.join()\n",
    "    \n",
    "    # Tell all our workers to stop\n",
    "    for i in range(50):\n",
    "        q.put('break')"
   ]
  }
 ],
 "metadata": {
  "kernelspec": {
   "display_name": "Python 3",
   "name": "python3"
  },
  "language_info": {
   "codemirror_mode": {
    "name": "ipython",
    "version": 3
   },
   "file_extension": ".py",
   "mimetype": "text/x-python",
   "name": "python",
   "nbconvert_exporter": "python",
   "pygments_lexer": "ipython3",
   "version": "3.6.3"
  },
  "name": "exercises.ipynb"
 },
 "nbformat": 4,
 "nbformat_minor": 2
}
